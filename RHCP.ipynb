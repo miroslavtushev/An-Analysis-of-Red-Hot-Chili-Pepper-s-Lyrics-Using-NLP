{
 "cells": [
  {
   "cell_type": "markdown",
   "metadata": {},
   "source": [
    "# An Analysis of Red Hot Chili Pepper’s Lyrics Using NLP"
   ]
  },
  {
   "cell_type": "markdown",
   "metadata": {},
   "source": [
    "This notebook documents my end-to-end steps of collecting, visualizing and analyzing lyrics of Red Hot Chili Peppers's songs. \n",
    "\n",
    "I scrap the lyrics of all 12 studio albums from *azlyrics.com* and apply TF-IDF and LDA algorithms to generate meaningful insights about the albums and individual songs.\n",
    "\n",
    "The results showed that both TF-IDF and LDA failed to generate meaningful topics."
   ]
  },
  {
   "cell_type": "markdown",
   "metadata": {},
   "source": [
    "## Collecting Data"
   ]
  },
  {
   "cell_type": "code",
   "execution_count": 1,
   "metadata": {},
   "outputs": [],
   "source": [
    "from bs4 import BeautifulSoup\n",
    "import requests\n",
    "import re\n",
    "import os"
   ]
  },
  {
   "cell_type": "code",
   "execution_count": null,
   "metadata": {
    "scrolled": false
   },
   "outputs": [],
   "source": [
    "rhcp_url = 'https://www.azlyrics.com/r/redhotchilipeppers.html'\n",
    "\n",
    "r = requests.get(rhcp_url)\n",
    "soup_album = BeautifulSoup(r.text, 'html.parser')\n",
    "for cls in soup_album.find_all(class_=re.compile(\"(album)|(listalbum-item)\")):\n",
    "    if cls.get_text() == 'other songs:':\n",
    "        break\n",
    "    if cls['class'][0] == 'album':\n",
    "        album = re.sub('(^.*: )|\"', \"\", cls.text)\n",
    "        try:\n",
    "            os.mkdir(album)\n",
    "        except:\n",
    "            pass\n",
    "    else:\n",
    "        # check if song is downloaded already\n",
    "        if os.path.exists(os.path.join(album, cls.a.get_text() + '.txt')):\n",
    "            continue\n",
    "        song_url ='https://www.azlyrics.com' + cls.a['href'][2:]\n",
    "        r = requests.get(song_url)\n",
    "        soup_song = BeautifulSoup(r.text, 'html.parser')\n",
    "        title = soup_song.find('div', class_=\"ringtone\").find_next('b').get_text().replace('\"', \"\").replace(\"?\", \"\").replace(\"/\", \"\")\n",
    "        lyrics = soup_song.find('div', class_=\"ringtone\").find_next('div').get_text()\n",
    "        print(title)\n",
    "        with open(os.path.join(album, title + '.txt'), 'a+', encoding=\"utf-8\") as f:\n",
    "            f.write(title)\n",
    "            f.write(lyrics)"
   ]
  },
  {
   "cell_type": "code",
   "execution_count": 2,
   "metadata": {
    "scrolled": false
   },
   "outputs": [
    {
     "data": {
      "text/plain": [
       "['The Red Hot Chili Peppers (1984)',\n",
       " 'Freaky Styley (1985)',\n",
       " 'The Uplift Mofo Party Plan (1987)',\n",
       " \"Mother's Milk (1989)\",\n",
       " 'Blood Sugar Sex Magik (1991)',\n",
       " 'One Hot Minute (1995)',\n",
       " 'Californication (1999)',\n",
       " 'By The Way (2002)',\n",
       " 'Stadium Arcadium (2006)',\n",
       " \"I'm With You (2011)\",\n",
       " \"I'm With You Sessions (2013)\",\n",
       " 'The Getaway (2016)']"
      ]
     },
     "execution_count": 2,
     "metadata": {},
     "output_type": "execute_result"
    }
   ],
   "source": [
    "# sort albums by year\n",
    "albums = sorted([d for d in os.listdir(os.curdir) if os.path.isdir(d) and d.endswith(')')], \n",
    "                key=lambda x: re.search(\"(\\d{4})\", x).group(0))\n",
    "albums"
   ]
  },
  {
   "cell_type": "code",
   "execution_count": 3,
   "metadata": {},
   "outputs": [],
   "source": [
    "lyrics_per_album = []\n",
    "for album in albums:\n",
    "    txts = os.listdir(album)\n",
    "    album_lyrics = []\n",
    "    for txt in txts:\n",
    "        with open(os.path.join(album, txt)) as f:\n",
    "            album_lyrics.append(f.read())\n",
    "    lyrics_per_album.append(album_lyrics)"
   ]
  },
  {
   "cell_type": "code",
   "execution_count": 4,
   "metadata": {},
   "outputs": [
    {
     "data": {
      "text/plain": [
       "'My Friends\\n\\n\\nMy friends are so depressed\\nI feel the question of your loneliness\\nConfide \\'cause I\\'ll be on your side\\nYou know I will, you know I will\\n\\nEx-girlfriend called me up\\nAlone and desperate on the prison phone\\nThey want to give her 7 years\\nFor being sad\\n\\n[Chorus:]\\nI love all of you\\nHurt by the cold\\nSo hard and lonely, too\\nWhen you don\\'t know yourself\\n\\nMy friends are so distressed\\nAnd standing on the brink of emptiness\\nNo words I know of to express\\nThis emptiness\\n\\n[Chorus]\\n\\nImagine me\\nTaught by tragedy\\nRelease\\nIs peace\\n\\nI heard a little girl\\nAnd what she said was something beautiful\\n\"To give your love no matter what.\"\\nIs what she said.\\n\\n[Chorus]\\n'"
      ]
     },
     "execution_count": 4,
     "metadata": {},
     "output_type": "execute_result"
    }
   ],
   "source": [
    "lyrics_per_album[5][7]"
   ]
  },
  {
   "cell_type": "markdown",
   "metadata": {},
   "source": [
    "## Data Preprocessing"
   ]
  },
  {
   "cell_type": "markdown",
   "metadata": {},
   "source": [
    "For this analysis common text preprocessing techniques were applied:\n",
    "1. Removed punctuation;\n",
    "2. Converted to lower case;\n",
    "3. Removed English stop-words; \n",
    "4. Lemmatization.\n",
    "\n",
    "Lemmatization was chosen over stemming in order to preserve the meaning of the words so they can be examined later. "
   ]
  },
  {
   "cell_type": "code",
   "execution_count": 5,
   "metadata": {},
   "outputs": [],
   "source": [
    "from nltk.stem import WordNetLemmatizer\n",
    "from nltk.tokenize import word_tokenize\n",
    "from nltk.corpus import stopwords, wordnet\n",
    "import nltk\n",
    "\n",
    "wordnet_map = {\n",
    "    \"N\": wordnet.NOUN,\n",
    "    \"V\": wordnet.VERB,\n",
    "    \"J\": wordnet.ADJ,\n",
    "    \"R\": wordnet.ADV\n",
    "}\n",
    "\n",
    "def preprocess(text):\n",
    "    # remove labels\n",
    "    text = re.sub(\"\\[[\\w\\s:]+\\]\", \"\", text)\n",
    "    # step 1\n",
    "    words = [word.lower() for word in word_tokenize(text) if word.isalpha()]\n",
    "    #step 2\n",
    "    words = [word for word in words if not word in stopwords.words('english')]\n",
    "    #step 3\n",
    "    lem = WordNetLemmatizer()\n",
    "    words = [lem.lemmatize(word, wordnet_map.get(nltk.pos_tag([word])[0][1][0], wordnet.NOUN)) for word in words]\n",
    "    return words "
   ]
  },
  {
   "cell_type": "markdown",
   "metadata": {},
   "source": [
    "## Counting Unique Words Per Album\n",
    "\n",
    "A theory suggests that Stadium Arcadium is the most lyrically-sophisticated album. To check this theory, we are going to use ***the number of unique words*** as a metric for sophistication."
   ]
  },
  {
   "cell_type": "code",
   "execution_count": 7,
   "metadata": {},
   "outputs": [],
   "source": [
    "from collections import Counter\n",
    "\n",
    "corpus = []\n",
    "for album in lyrics_per_album:\n",
    "    album_corpus = []\n",
    "    for song in album:\n",
    "        album_corpus += preprocess(song)\n",
    "    corpus.append(Counter(album_corpus))"
   ]
  },
  {
   "cell_type": "code",
   "execution_count": 8,
   "metadata": {
    "scrolled": false
   },
   "outputs": [
    {
     "data": {
      "text/html": [
       "<div>\n",
       "<style scoped>\n",
       "    .dataframe tbody tr th:only-of-type {\n",
       "        vertical-align: middle;\n",
       "    }\n",
       "\n",
       "    .dataframe tbody tr th {\n",
       "        vertical-align: top;\n",
       "    }\n",
       "\n",
       "    .dataframe thead th {\n",
       "        text-align: right;\n",
       "    }\n",
       "</style>\n",
       "<table border=\"1\" class=\"dataframe\">\n",
       "  <thead>\n",
       "    <tr style=\"text-align: right;\">\n",
       "      <th></th>\n",
       "      <th>Unique words</th>\n",
       "    </tr>\n",
       "  </thead>\n",
       "  <tbody>\n",
       "    <tr>\n",
       "      <th>The Red Hot Chili Peppers (1984)</th>\n",
       "      <td>607</td>\n",
       "    </tr>\n",
       "    <tr>\n",
       "      <th>Freaky Styley (1985)</th>\n",
       "      <td>589</td>\n",
       "    </tr>\n",
       "    <tr>\n",
       "      <th>The Uplift Mofo Party Plan (1987)</th>\n",
       "      <td>677</td>\n",
       "    </tr>\n",
       "    <tr>\n",
       "      <th>Mother's Milk (1989)</th>\n",
       "      <td>632</td>\n",
       "    </tr>\n",
       "    <tr>\n",
       "      <th>Blood Sugar Sex Magik (1991)</th>\n",
       "      <td>943</td>\n",
       "    </tr>\n",
       "    <tr>\n",
       "      <th>One Hot Minute (1995)</th>\n",
       "      <td>819</td>\n",
       "    </tr>\n",
       "    <tr>\n",
       "      <th>Californication (1999)</th>\n",
       "      <td>804</td>\n",
       "    </tr>\n",
       "    <tr>\n",
       "      <th>By The Way (2002)</th>\n",
       "      <td>755</td>\n",
       "    </tr>\n",
       "    <tr>\n",
       "      <th>Stadium Arcadium (2006)</th>\n",
       "      <td>1196</td>\n",
       "    </tr>\n",
       "    <tr>\n",
       "      <th>I'm With You (2011)</th>\n",
       "      <td>628</td>\n",
       "    </tr>\n",
       "    <tr>\n",
       "      <th>I'm With You Sessions (2013)</th>\n",
       "      <td>747</td>\n",
       "    </tr>\n",
       "    <tr>\n",
       "      <th>The Getaway (2016)</th>\n",
       "      <td>732</td>\n",
       "    </tr>\n",
       "  </tbody>\n",
       "</table>\n",
       "</div>"
      ],
      "text/plain": [
       "                                  Unique words\n",
       "The Red Hot Chili Peppers (1984)           607\n",
       "Freaky Styley (1985)                       589\n",
       "The Uplift Mofo Party Plan (1987)          677\n",
       "Mother's Milk (1989)                       632\n",
       "Blood Sugar Sex Magik (1991)               943\n",
       "One Hot Minute (1995)                      819\n",
       "Californication (1999)                     804\n",
       "By The Way (2002)                          755\n",
       "Stadium Arcadium (2006)                   1196\n",
       "I'm With You (2011)                        628\n",
       "I'm With You Sessions (2013)               747\n",
       "The Getaway (2016)                         732"
      ]
     },
     "execution_count": 8,
     "metadata": {},
     "output_type": "execute_result"
    }
   ],
   "source": [
    "import pandas as pd\n",
    "\n",
    "RHCP = pd.DataFrame(index=albums, columns=['Unique words'])\n",
    "for a,l in zip(albums, corpus):\n",
    "    RHCP.loc[a, 'Unique words'] = len(l)\n",
    "RHCP"
   ]
  },
  {
   "cell_type": "code",
   "execution_count": 9,
   "metadata": {},
   "outputs": [
    {
     "data": {
      "text/html": [
       "<div>\n",
       "<style scoped>\n",
       "    .dataframe tbody tr th:only-of-type {\n",
       "        vertical-align: middle;\n",
       "    }\n",
       "\n",
       "    .dataframe tbody tr th {\n",
       "        vertical-align: top;\n",
       "    }\n",
       "\n",
       "    .dataframe thead th {\n",
       "        text-align: right;\n",
       "    }\n",
       "</style>\n",
       "<table border=\"1\" class=\"dataframe\">\n",
       "  <thead>\n",
       "    <tr style=\"text-align: right;\">\n",
       "      <th></th>\n",
       "      <th>Unique words</th>\n",
       "      <th>Total words</th>\n",
       "      <th>Unique/Total</th>\n",
       "    </tr>\n",
       "  </thead>\n",
       "  <tbody>\n",
       "    <tr>\n",
       "      <th>The Red Hot Chili Peppers (1984)</th>\n",
       "      <td>607</td>\n",
       "      <td>1908.0</td>\n",
       "      <td>0.318134</td>\n",
       "    </tr>\n",
       "    <tr>\n",
       "      <th>Freaky Styley (1985)</th>\n",
       "      <td>589</td>\n",
       "      <td>1272.0</td>\n",
       "      <td>0.46305</td>\n",
       "    </tr>\n",
       "    <tr>\n",
       "      <th>The Uplift Mofo Party Plan (1987)</th>\n",
       "      <td>677</td>\n",
       "      <td>1758.0</td>\n",
       "      <td>0.385097</td>\n",
       "    </tr>\n",
       "    <tr>\n",
       "      <th>Mother's Milk (1989)</th>\n",
       "      <td>632</td>\n",
       "      <td>1565.0</td>\n",
       "      <td>0.403834</td>\n",
       "    </tr>\n",
       "    <tr>\n",
       "      <th>Blood Sugar Sex Magik (1991)</th>\n",
       "      <td>943</td>\n",
       "      <td>2444.0</td>\n",
       "      <td>0.385843</td>\n",
       "    </tr>\n",
       "    <tr>\n",
       "      <th>One Hot Minute (1995)</th>\n",
       "      <td>819</td>\n",
       "      <td>1761.0</td>\n",
       "      <td>0.465077</td>\n",
       "    </tr>\n",
       "    <tr>\n",
       "      <th>Californication (1999)</th>\n",
       "      <td>804</td>\n",
       "      <td>2413.0</td>\n",
       "      <td>0.333195</td>\n",
       "    </tr>\n",
       "    <tr>\n",
       "      <th>By The Way (2002)</th>\n",
       "      <td>755</td>\n",
       "      <td>2353.0</td>\n",
       "      <td>0.320867</td>\n",
       "    </tr>\n",
       "    <tr>\n",
       "      <th>Stadium Arcadium (2006)</th>\n",
       "      <td>1196</td>\n",
       "      <td>3794.0</td>\n",
       "      <td>0.315235</td>\n",
       "    </tr>\n",
       "    <tr>\n",
       "      <th>I'm With You (2011)</th>\n",
       "      <td>628</td>\n",
       "      <td>2114.0</td>\n",
       "      <td>0.297067</td>\n",
       "    </tr>\n",
       "    <tr>\n",
       "      <th>I'm With You Sessions (2013)</th>\n",
       "      <td>747</td>\n",
       "      <td>2014.0</td>\n",
       "      <td>0.370904</td>\n",
       "    </tr>\n",
       "    <tr>\n",
       "      <th>The Getaway (2016)</th>\n",
       "      <td>732</td>\n",
       "      <td>2018.0</td>\n",
       "      <td>0.362735</td>\n",
       "    </tr>\n",
       "  </tbody>\n",
       "</table>\n",
       "</div>"
      ],
      "text/plain": [
       "                                  Unique words  Total words Unique/Total\n",
       "The Red Hot Chili Peppers (1984)           607       1908.0     0.318134\n",
       "Freaky Styley (1985)                       589       1272.0      0.46305\n",
       "The Uplift Mofo Party Plan (1987)          677       1758.0     0.385097\n",
       "Mother's Milk (1989)                       632       1565.0     0.403834\n",
       "Blood Sugar Sex Magik (1991)               943       2444.0     0.385843\n",
       "One Hot Minute (1995)                      819       1761.0     0.465077\n",
       "Californication (1999)                     804       2413.0     0.333195\n",
       "By The Way (2002)                          755       2353.0     0.320867\n",
       "Stadium Arcadium (2006)                   1196       3794.0     0.315235\n",
       "I'm With You (2011)                        628       2114.0     0.297067\n",
       "I'm With You Sessions (2013)               747       2014.0     0.370904\n",
       "The Getaway (2016)                         732       2018.0     0.362735"
      ]
     },
     "execution_count": 9,
     "metadata": {},
     "output_type": "execute_result"
    }
   ],
   "source": [
    "# unique words / total words\n",
    "for a,l in zip(albums, corpus):\n",
    "    RHCP.loc[a, 'Total words'] = sum(l.values())\n",
    "    #print(\"{}: {:.2f} unique / total\".format(a, len(l)/sum(l.values())))\n",
    "RHCP['Unique/Total'] = RHCP.iloc[:,0] / RHCP.iloc[:,1]\n",
    "RHCP"
   ]
  },
  {
   "cell_type": "code",
   "execution_count": 10,
   "metadata": {},
   "outputs": [
    {
     "data": {
      "text/plain": [
       "<Figure size 432x288 with 0 Axes>"
      ]
     },
     "metadata": {},
     "output_type": "display_data"
    },
    {
     "data": {
      "image/png": "[encoded data removed]",
      "text/plain": [
       "<Figure size 720x576 with 2 Axes>"
      ]
     },
     "metadata": {},
     "output_type": "display_data"
    },
    {
     "data": {
      "text/plain": [
       "<Figure size 432x288 with 0 Axes>"
      ]
     },
     "metadata": {},
     "output_type": "display_data"
    }
   ],
   "source": [
    "# here is how it looks visually\n",
    "# we can see that SA is not the most sofisticated album, at least when measured by the proportion of unique words\n",
    "# it's interesting how thios proportion had been going down since Californation to I'm with you albums - arguably,\n",
    "# one of the best albums of the modern peppers' era\n",
    "import seaborn as sns\n",
    "import matplotlib.pyplot as plt\n",
    "plt.style.use('fivethirtyeight')\n",
    "plt.figure()\n",
    "fig, ax1 = plt.subplots(figsize=(10,8))\n",
    "\n",
    "color = 'tab:red'\n",
    "ax1.set_ylabel('# of words', color=color)\n",
    "ax1.plot(RHCP.index, RHCP.loc[:, 'Unique words'].values, color=color, marker='o')\n",
    "ax1.tick_params(axis='y', labelcolor=color)\n",
    "\n",
    "ax2 = ax1.twinx()  # instantiate a second axes that shares the same x-axis\n",
    "\n",
    "color = 'tab:blue'\n",
    "ax2.set_ylabel('unique/total', color=color)  # we already handled the x-label with ax1\n",
    "ax2.plot(RHCP.index, RHCP.loc[:, 'Unique/Total'].values, color=color, marker='o')\n",
    "ax2.tick_params(axis='y', labelcolor=color)\n",
    "ax2.grid(b=None)\n",
    "plt.draw()\n",
    "ax1.set_xticklabels(ax1.get_xticklabels(), rotation = 90)\n",
    "\n",
    "fig.tight_layout()  # otherwise the right y-label is slightly clipped\n",
    "#plt.show()\n",
    "#fig.subplots_adjust(bottom=0.5)\n",
    "plt.show()\n",
    "plt.clf()"
   ]
  },
  {
   "cell_type": "markdown",
   "metadata": {},
   "source": [
    "**Observations.**\n",
    "- Stadium Arcadium is the most sophisticated album when measured by the **total unique words**.\n",
    "- However, when weighted by the **total words**, Freaky Styley and One Hot Minute score the highest.\n",
    "- The downward trend of **unique/total words** indicates that the level of sophistication had been falling since One Hot Minute."
   ]
  },
  {
   "cell_type": "markdown",
   "metadata": {},
   "source": [
    "## Most Used Words\n",
    "\n",
    "A theory suggests that RHCP often sing about California, especially in their Californication album. Words that used the most per given album might help outline an overal topic of that album."
   ]
  },
  {
   "cell_type": "code",
   "execution_count": 11,
   "metadata": {},
   "outputs": [
    {
     "data": {
      "text/html": [
       "<div>\n",
       "<style scoped>\n",
       "    .dataframe tbody tr th:only-of-type {\n",
       "        vertical-align: middle;\n",
       "    }\n",
       "\n",
       "    .dataframe tbody tr th {\n",
       "        vertical-align: top;\n",
       "    }\n",
       "\n",
       "    .dataframe thead th {\n",
       "        text-align: right;\n",
       "    }\n",
       "</style>\n",
       "<table border=\"1\" class=\"dataframe\">\n",
       "  <thead>\n",
       "    <tr style=\"text-align: right;\">\n",
       "      <th></th>\n",
       "      <th>word #1</th>\n",
       "      <th>word #2</th>\n",
       "      <th>word #3</th>\n",
       "      <th>word #4</th>\n",
       "      <th>word #5</th>\n",
       "    </tr>\n",
       "  </thead>\n",
       "  <tbody>\n",
       "    <tr>\n",
       "      <th>The Red Hot Chili Peppers (1984)</th>\n",
       "      <td>know</td>\n",
       "      <td>get</td>\n",
       "      <td>jump</td>\n",
       "      <td>well</td>\n",
       "      <td>men</td>\n",
       "    </tr>\n",
       "    <tr>\n",
       "      <th>Freaky Styley (1985)</th>\n",
       "      <td>get</td>\n",
       "      <td>take</td>\n",
       "      <td>millionaire</td>\n",
       "      <td>make</td>\n",
       "      <td>love</td>\n",
       "    </tr>\n",
       "    <tr>\n",
       "      <th>The Uplift Mofo Party Plan (1987)</th>\n",
       "      <td>party</td>\n",
       "      <td>want</td>\n",
       "      <td>love</td>\n",
       "      <td>pussy</td>\n",
       "      <td>get</td>\n",
       "    </tr>\n",
       "    <tr>\n",
       "      <th>Mother's Milk (1989)</th>\n",
       "      <td>get</td>\n",
       "      <td>please</td>\n",
       "      <td>fire</td>\n",
       "      <td>make</td>\n",
       "      <td>come</td>\n",
       "    </tr>\n",
       "    <tr>\n",
       "      <th>Blood Sugar Sex Magik (1991)</th>\n",
       "      <td>get</td>\n",
       "      <td>love</td>\n",
       "      <td>give</td>\n",
       "      <td>good</td>\n",
       "      <td>little</td>\n",
       "    </tr>\n",
       "    <tr>\n",
       "      <th>One Hot Minute (1995)</th>\n",
       "      <td>get</td>\n",
       "      <td>love</td>\n",
       "      <td>one</td>\n",
       "      <td>like</td>\n",
       "      <td>could</td>\n",
       "    </tr>\n",
       "    <tr>\n",
       "      <th>Californication (1999)</th>\n",
       "      <td>get</td>\n",
       "      <td>dance</td>\n",
       "      <td>phfat</td>\n",
       "      <td>come</td>\n",
       "      <td>know</td>\n",
       "    </tr>\n",
       "    <tr>\n",
       "      <th>By The Way (2002)</th>\n",
       "      <td>get</td>\n",
       "      <td>know</td>\n",
       "      <td>want</td>\n",
       "      <td>make</td>\n",
       "      <td>come</td>\n",
       "    </tr>\n",
       "    <tr>\n",
       "      <th>Stadium Arcadium (2006)</th>\n",
       "      <td>get</td>\n",
       "      <td>oh</td>\n",
       "      <td>come</td>\n",
       "      <td>make</td>\n",
       "      <td>na</td>\n",
       "    </tr>\n",
       "    <tr>\n",
       "      <th>I'm With You (2011)</th>\n",
       "      <td>get</td>\n",
       "      <td>around</td>\n",
       "      <td>know</td>\n",
       "      <td>say</td>\n",
       "      <td>dance</td>\n",
       "    </tr>\n",
       "    <tr>\n",
       "      <th>I'm With You Sessions (2013)</th>\n",
       "      <td>away</td>\n",
       "      <td>love</td>\n",
       "      <td>know</td>\n",
       "      <td>want</td>\n",
       "      <td>like</td>\n",
       "    </tr>\n",
       "    <tr>\n",
       "      <th>The Getaway (2016)</th>\n",
       "      <td>get</td>\n",
       "      <td>ayo</td>\n",
       "      <td>know</td>\n",
       "      <td>like</td>\n",
       "      <td>want</td>\n",
       "    </tr>\n",
       "  </tbody>\n",
       "</table>\n",
       "</div>"
      ],
      "text/plain": [
       "                                  word #1 word #2      word #3 word #4 word #5\n",
       "The Red Hot Chili Peppers (1984)     know     get         jump    well     men\n",
       "Freaky Styley (1985)                  get    take  millionaire    make    love\n",
       "The Uplift Mofo Party Plan (1987)   party    want         love   pussy     get\n",
       "Mother's Milk (1989)                  get  please         fire    make    come\n",
       "Blood Sugar Sex Magik (1991)          get    love         give    good  little\n",
       "One Hot Minute (1995)                 get    love          one    like   could\n",
       "Californication (1999)                get   dance        phfat    come    know\n",
       "By The Way (2002)                     get    know         want    make    come\n",
       "Stadium Arcadium (2006)               get      oh         come    make      na\n",
       "I'm With You (2011)                   get  around         know     say   dance\n",
       "I'm With You Sessions (2013)         away    love         know    want    like\n",
       "The Getaway (2016)                    get     ayo         know    like    want"
      ]
     },
     "execution_count": 11,
     "metadata": {},
     "output_type": "execute_result"
    }
   ],
   "source": [
    "#most_used = pd.DataFrame(columns=['word #1', 'word #2', 'word #3', 'word #4', 'word #5'], index=albums)\n",
    "for a,l in zip(albums, corpus):\n",
    "    wds = [w[0] for w in l.most_common(5)]\n",
    "    RHCP.loc[a, 'word #1'] = wds[0]\n",
    "    RHCP.loc[a, 'word #2'] = wds[1]\n",
    "    RHCP.loc[a, 'word #3'] = wds[2]\n",
    "    RHCP.loc[a, 'word #4'] = wds[3]\n",
    "    RHCP.loc[a, 'word #5'] = wds[4]\n",
    "RHCP[['word #1', 'word #2', 'word #3', 'word #4', 'word #5']]"
   ]
  },
  {
   "cell_type": "markdown",
   "metadata": {},
   "source": [
    "**Observations:**\n",
    "- Raw word counts elevate a lot of uninformative words\n",
    "- Words from individual songs, rather than albums, dominate the counts. For example, *party, want, pussy* are from the same song - *Special Secret Song Inside*."
   ]
  },
  {
   "cell_type": "markdown",
   "metadata": {},
   "source": [
    "## Solution 1: TF-IDF\n",
    "**Rationale**: TF-IDF penalizes frequently occuring words in all documents.\n",
    "\n",
    "Each album is treated as a separate document."
   ]
  },
  {
   "cell_type": "code",
   "execution_count": 12,
   "metadata": {},
   "outputs": [],
   "source": [
    "from sklearn.feature_extraction.text import TfidfVectorizer\n",
    "\n",
    "tfidf_corpus = []\n",
    "for album in lyrics_per_album:\n",
    "    album_corpus = \"\"\n",
    "    for song in album:\n",
    "        album_corpus = album_corpus + \" \" + \" \".join(preprocess(song))\n",
    "    tfidf_corpus.append(album_corpus)"
   ]
  },
  {
   "cell_type": "code",
   "execution_count": 13,
   "metadata": {},
   "outputs": [],
   "source": [
    "tfidf = TfidfVectorizer(preprocessor=None, stop_words=None)\n",
    "X = tfidf.fit_transform(tfidf_corpus)"
   ]
  },
  {
   "cell_type": "code",
   "execution_count": 14,
   "metadata": {},
   "outputs": [
    {
     "data": {
      "text/plain": [
       "(12, 4007)"
      ]
     },
     "execution_count": 14,
     "metadata": {},
     "output_type": "execute_result"
    }
   ],
   "source": [
    "X.A.shape"
   ]
  },
  {
   "cell_type": "code",
   "execution_count": 16,
   "metadata": {},
   "outputs": [
    {
     "data": {
      "text/html": [
       "<div>\n",
       "<style scoped>\n",
       "    .dataframe tbody tr th:only-of-type {\n",
       "        vertical-align: middle;\n",
       "    }\n",
       "\n",
       "    .dataframe tbody tr th {\n",
       "        vertical-align: top;\n",
       "    }\n",
       "\n",
       "    .dataframe thead th {\n",
       "        text-align: right;\n",
       "    }\n",
       "</style>\n",
       "<table border=\"1\" class=\"dataframe\">\n",
       "  <thead>\n",
       "    <tr style=\"text-align: right;\">\n",
       "      <th></th>\n",
       "      <th>aaw</th>\n",
       "      <th>abandonment</th>\n",
       "      <th>abdul</th>\n",
       "      <th>abel</th>\n",
       "      <th>ability</th>\n",
       "      <th>ablaze</th>\n",
       "      <th>abnormality</th>\n",
       "      <th>aboard</th>\n",
       "      <th>aborigine</th>\n",
       "      <th>abortion</th>\n",
       "      <th>...</th>\n",
       "      <th>young</th>\n",
       "      <th>zanniest</th>\n",
       "      <th>zap</th>\n",
       "      <th>zen</th>\n",
       "      <th>zephyr</th>\n",
       "      <th>zeppelin</th>\n",
       "      <th>zodiac</th>\n",
       "      <th>zone</th>\n",
       "      <th>zoo</th>\n",
       "      <th>zulu</th>\n",
       "    </tr>\n",
       "  </thead>\n",
       "  <tbody>\n",
       "    <tr>\n",
       "      <th>The Red Hot Chili Peppers (1984)</th>\n",
       "      <td>0.026868</td>\n",
       "      <td>0.0</td>\n",
       "      <td>0.00000</td>\n",
       "      <td>0.0</td>\n",
       "      <td>0.000000</td>\n",
       "      <td>0.013434</td>\n",
       "      <td>0.0</td>\n",
       "      <td>0.000000</td>\n",
       "      <td>0.0</td>\n",
       "      <td>0.000000</td>\n",
       "      <td>...</td>\n",
       "      <td>0.005905</td>\n",
       "      <td>0.000000</td>\n",
       "      <td>0.000000</td>\n",
       "      <td>0.0</td>\n",
       "      <td>0.0</td>\n",
       "      <td>0.0</td>\n",
       "      <td>0.0</td>\n",
       "      <td>0.00000</td>\n",
       "      <td>0.0</td>\n",
       "      <td>0.000000</td>\n",
       "    </tr>\n",
       "    <tr>\n",
       "      <th>Freaky Styley (1985)</th>\n",
       "      <td>0.000000</td>\n",
       "      <td>0.0</td>\n",
       "      <td>0.00000</td>\n",
       "      <td>0.0</td>\n",
       "      <td>0.000000</td>\n",
       "      <td>0.000000</td>\n",
       "      <td>0.0</td>\n",
       "      <td>0.000000</td>\n",
       "      <td>0.0</td>\n",
       "      <td>0.000000</td>\n",
       "      <td>...</td>\n",
       "      <td>0.000000</td>\n",
       "      <td>0.000000</td>\n",
       "      <td>0.020096</td>\n",
       "      <td>0.0</td>\n",
       "      <td>0.0</td>\n",
       "      <td>0.0</td>\n",
       "      <td>0.0</td>\n",
       "      <td>0.00000</td>\n",
       "      <td>0.0</td>\n",
       "      <td>0.000000</td>\n",
       "    </tr>\n",
       "    <tr>\n",
       "      <th>The Uplift Mofo Party Plan (1987)</th>\n",
       "      <td>0.000000</td>\n",
       "      <td>0.0</td>\n",
       "      <td>0.00000</td>\n",
       "      <td>0.0</td>\n",
       "      <td>0.000000</td>\n",
       "      <td>0.000000</td>\n",
       "      <td>0.0</td>\n",
       "      <td>0.000000</td>\n",
       "      <td>0.0</td>\n",
       "      <td>0.000000</td>\n",
       "      <td>...</td>\n",
       "      <td>0.017269</td>\n",
       "      <td>0.013096</td>\n",
       "      <td>0.000000</td>\n",
       "      <td>0.0</td>\n",
       "      <td>0.0</td>\n",
       "      <td>0.0</td>\n",
       "      <td>0.0</td>\n",
       "      <td>0.00000</td>\n",
       "      <td>0.0</td>\n",
       "      <td>0.013096</td>\n",
       "    </tr>\n",
       "    <tr>\n",
       "      <th>Mother's Milk (1989)</th>\n",
       "      <td>0.000000</td>\n",
       "      <td>0.0</td>\n",
       "      <td>0.02024</td>\n",
       "      <td>0.0</td>\n",
       "      <td>0.000000</td>\n",
       "      <td>0.000000</td>\n",
       "      <td>0.0</td>\n",
       "      <td>0.052147</td>\n",
       "      <td>0.0</td>\n",
       "      <td>0.000000</td>\n",
       "      <td>...</td>\n",
       "      <td>0.008897</td>\n",
       "      <td>0.000000</td>\n",
       "      <td>0.000000</td>\n",
       "      <td>0.0</td>\n",
       "      <td>0.0</td>\n",
       "      <td>0.0</td>\n",
       "      <td>0.0</td>\n",
       "      <td>0.03071</td>\n",
       "      <td>0.0</td>\n",
       "      <td>0.000000</td>\n",
       "    </tr>\n",
       "    <tr>\n",
       "      <th>Blood Sugar Sex Magik (1991)</th>\n",
       "      <td>0.000000</td>\n",
       "      <td>0.0</td>\n",
       "      <td>0.00000</td>\n",
       "      <td>0.0</td>\n",
       "      <td>0.013786</td>\n",
       "      <td>0.000000</td>\n",
       "      <td>0.0</td>\n",
       "      <td>0.000000</td>\n",
       "      <td>0.0</td>\n",
       "      <td>0.013786</td>\n",
       "      <td>...</td>\n",
       "      <td>0.030300</td>\n",
       "      <td>0.000000</td>\n",
       "      <td>0.000000</td>\n",
       "      <td>0.0</td>\n",
       "      <td>0.0</td>\n",
       "      <td>0.0</td>\n",
       "      <td>0.0</td>\n",
       "      <td>0.00000</td>\n",
       "      <td>0.0</td>\n",
       "      <td>0.000000</td>\n",
       "    </tr>\n",
       "  </tbody>\n",
       "</table>\n",
       "<p>5 rows × 4007 columns</p>\n",
       "</div>"
      ],
      "text/plain": [
       "                                        aaw  abandonment    abdul  abel  \\\n",
       "The Red Hot Chili Peppers (1984)   0.026868          0.0  0.00000   0.0   \n",
       "Freaky Styley (1985)               0.000000          0.0  0.00000   0.0   \n",
       "The Uplift Mofo Party Plan (1987)  0.000000          0.0  0.00000   0.0   \n",
       "Mother's Milk (1989)               0.000000          0.0  0.02024   0.0   \n",
       "Blood Sugar Sex Magik (1991)       0.000000          0.0  0.00000   0.0   \n",
       "\n",
       "                                    ability    ablaze  abnormality    aboard  \\\n",
       "The Red Hot Chili Peppers (1984)   0.000000  0.013434          0.0  0.000000   \n",
       "Freaky Styley (1985)               0.000000  0.000000          0.0  0.000000   \n",
       "The Uplift Mofo Party Plan (1987)  0.000000  0.000000          0.0  0.000000   \n",
       "Mother's Milk (1989)               0.000000  0.000000          0.0  0.052147   \n",
       "Blood Sugar Sex Magik (1991)       0.013786  0.000000          0.0  0.000000   \n",
       "\n",
       "                                   aborigine  abortion  ...     young  \\\n",
       "The Red Hot Chili Peppers (1984)         0.0  0.000000  ...  0.005905   \n",
       "Freaky Styley (1985)                     0.0  0.000000  ...  0.000000   \n",
       "The Uplift Mofo Party Plan (1987)        0.0  0.000000  ...  0.017269   \n",
       "Mother's Milk (1989)                     0.0  0.000000  ...  0.008897   \n",
       "Blood Sugar Sex Magik (1991)             0.0  0.013786  ...  0.030300   \n",
       "\n",
       "                                   zanniest       zap  zen  zephyr  zeppelin  \\\n",
       "The Red Hot Chili Peppers (1984)   0.000000  0.000000  0.0     0.0       0.0   \n",
       "Freaky Styley (1985)               0.000000  0.020096  0.0     0.0       0.0   \n",
       "The Uplift Mofo Party Plan (1987)  0.013096  0.000000  0.0     0.0       0.0   \n",
       "Mother's Milk (1989)               0.000000  0.000000  0.0     0.0       0.0   \n",
       "Blood Sugar Sex Magik (1991)       0.000000  0.000000  0.0     0.0       0.0   \n",
       "\n",
       "                                   zodiac     zone  zoo      zulu  \n",
       "The Red Hot Chili Peppers (1984)      0.0  0.00000  0.0  0.000000  \n",
       "Freaky Styley (1985)                  0.0  0.00000  0.0  0.000000  \n",
       "The Uplift Mofo Party Plan (1987)     0.0  0.00000  0.0  0.013096  \n",
       "Mother's Milk (1989)                  0.0  0.03071  0.0  0.000000  \n",
       "Blood Sugar Sex Magik (1991)          0.0  0.00000  0.0  0.000000  \n",
       "\n",
       "[5 rows x 4007 columns]"
      ]
     },
     "execution_count": 16,
     "metadata": {},
     "output_type": "execute_result"
    }
   ],
   "source": [
    "vocab = {v: k for k, v in tfidf.vocabulary_.items()}\n",
    "vocab = sorted(vocab.items(), key=lambda x: x[1])\n",
    "vocab_df = pd.DataFrame(X.A, columns=[c[1] for c in vocab], index=albums)\n",
    "vocab_df.head()"
   ]
  },
  {
   "cell_type": "code",
   "execution_count": 17,
   "metadata": {},
   "outputs": [
    {
     "data": {
      "text/html": [
       "<div>\n",
       "<style scoped>\n",
       "    .dataframe tbody tr th:only-of-type {\n",
       "        vertical-align: middle;\n",
       "    }\n",
       "\n",
       "    .dataframe tbody tr th {\n",
       "        vertical-align: top;\n",
       "    }\n",
       "\n",
       "    .dataframe thead th {\n",
       "        text-align: right;\n",
       "    }\n",
       "</style>\n",
       "<table border=\"1\" class=\"dataframe\">\n",
       "  <thead>\n",
       "    <tr style=\"text-align: right;\">\n",
       "      <th></th>\n",
       "      <th>word #1</th>\n",
       "      <th>word #2</th>\n",
       "      <th>word #3</th>\n",
       "      <th>word #4</th>\n",
       "      <th>word #5</th>\n",
       "      <th>tfidf:word #1</th>\n",
       "      <th>tfidf:word #2</th>\n",
       "      <th>tfidf:word #3</th>\n",
       "      <th>tfidf:word #4</th>\n",
       "      <th>tfidf:word #5</th>\n",
       "    </tr>\n",
       "  </thead>\n",
       "  <tbody>\n",
       "    <tr>\n",
       "      <th>The Red Hot Chili Peppers (1984)</th>\n",
       "      <td>know</td>\n",
       "      <td>get</td>\n",
       "      <td>jump</td>\n",
       "      <td>well</td>\n",
       "      <td>men</td>\n",
       "      <td>jump</td>\n",
       "      <td>coyote</td>\n",
       "      <td>hill</td>\n",
       "      <td>know</td>\n",
       "      <td>men</td>\n",
       "    </tr>\n",
       "    <tr>\n",
       "      <th>Freaky Styley (1985)</th>\n",
       "      <td>get</td>\n",
       "      <td>take</td>\n",
       "      <td>millionaire</td>\n",
       "      <td>make</td>\n",
       "      <td>love</td>\n",
       "      <td>millionaire</td>\n",
       "      <td>turtle</td>\n",
       "      <td>nevermind</td>\n",
       "      <td>get</td>\n",
       "      <td>cup</td>\n",
       "    </tr>\n",
       "    <tr>\n",
       "      <th>The Uplift Mofo Party Plan (1987)</th>\n",
       "      <td>party</td>\n",
       "      <td>want</td>\n",
       "      <td>love</td>\n",
       "      <td>pussy</td>\n",
       "      <td>get</td>\n",
       "      <td>party</td>\n",
       "      <td>pussy</td>\n",
       "      <td>want</td>\n",
       "      <td>love</td>\n",
       "      <td>get</td>\n",
       "    </tr>\n",
       "    <tr>\n",
       "      <th>Mother's Milk (1989)</th>\n",
       "      <td>get</td>\n",
       "      <td>please</td>\n",
       "      <td>fire</td>\n",
       "      <td>make</td>\n",
       "      <td>come</td>\n",
       "      <td>please</td>\n",
       "      <td>yea</td>\n",
       "      <td>get</td>\n",
       "      <td>fire</td>\n",
       "      <td>funky</td>\n",
       "    </tr>\n",
       "    <tr>\n",
       "      <th>Blood Sugar Sex Magik (1991)</th>\n",
       "      <td>get</td>\n",
       "      <td>love</td>\n",
       "      <td>give</td>\n",
       "      <td>good</td>\n",
       "      <td>little</td>\n",
       "      <td>get</td>\n",
       "      <td>sale</td>\n",
       "      <td>love</td>\n",
       "      <td>give</td>\n",
       "      <td>psycho</td>\n",
       "    </tr>\n",
       "    <tr>\n",
       "      <th>One Hot Minute (1995)</th>\n",
       "      <td>get</td>\n",
       "      <td>love</td>\n",
       "      <td>one</td>\n",
       "      <td>like</td>\n",
       "      <td>could</td>\n",
       "      <td>aeroplane</td>\n",
       "      <td>bob</td>\n",
       "      <td>get</td>\n",
       "      <td>spike</td>\n",
       "      <td>love</td>\n",
       "    </tr>\n",
       "    <tr>\n",
       "      <th>Californication (1999)</th>\n",
       "      <td>get</td>\n",
       "      <td>dance</td>\n",
       "      <td>phfat</td>\n",
       "      <td>come</td>\n",
       "      <td>know</td>\n",
       "      <td>phfat</td>\n",
       "      <td>get</td>\n",
       "      <td>dance</td>\n",
       "      <td>californication</td>\n",
       "      <td>view</td>\n",
       "    </tr>\n",
       "    <tr>\n",
       "      <th>By The Way (2002)</th>\n",
       "      <td>get</td>\n",
       "      <td>know</td>\n",
       "      <td>want</td>\n",
       "      <td>make</td>\n",
       "      <td>come</td>\n",
       "      <td>cabron</td>\n",
       "      <td>get</td>\n",
       "      <td>know</td>\n",
       "      <td>want</td>\n",
       "      <td>make</td>\n",
       "    </tr>\n",
       "    <tr>\n",
       "      <th>Stadium Arcadium (2006)</th>\n",
       "      <td>get</td>\n",
       "      <td>oh</td>\n",
       "      <td>come</td>\n",
       "      <td>make</td>\n",
       "      <td>na</td>\n",
       "      <td>get</td>\n",
       "      <td>bump</td>\n",
       "      <td>readymade</td>\n",
       "      <td>oh</td>\n",
       "      <td>torture</td>\n",
       "    </tr>\n",
       "    <tr>\n",
       "      <th>I'm With You (2011)</th>\n",
       "      <td>get</td>\n",
       "      <td>around</td>\n",
       "      <td>know</td>\n",
       "      <td>say</td>\n",
       "      <td>dance</td>\n",
       "      <td>get</td>\n",
       "      <td>around</td>\n",
       "      <td>know</td>\n",
       "      <td>dance</td>\n",
       "      <td>say</td>\n",
       "    </tr>\n",
       "    <tr>\n",
       "      <th>I'm With You Sessions (2013)</th>\n",
       "      <td>away</td>\n",
       "      <td>love</td>\n",
       "      <td>know</td>\n",
       "      <td>want</td>\n",
       "      <td>like</td>\n",
       "      <td>away</td>\n",
       "      <td>love</td>\n",
       "      <td>know</td>\n",
       "      <td>want</td>\n",
       "      <td>like</td>\n",
       "    </tr>\n",
       "    <tr>\n",
       "      <th>The Getaway (2016)</th>\n",
       "      <td>get</td>\n",
       "      <td>ayo</td>\n",
       "      <td>know</td>\n",
       "      <td>like</td>\n",
       "      <td>want</td>\n",
       "      <td>ayo</td>\n",
       "      <td>get</td>\n",
       "      <td>anymore</td>\n",
       "      <td>know</td>\n",
       "      <td>detroit</td>\n",
       "    </tr>\n",
       "  </tbody>\n",
       "</table>\n",
       "</div>"
      ],
      "text/plain": [
       "                                  word #1 word #2      word #3 word #4  \\\n",
       "The Red Hot Chili Peppers (1984)     know     get         jump    well   \n",
       "Freaky Styley (1985)                  get    take  millionaire    make   \n",
       "The Uplift Mofo Party Plan (1987)   party    want         love   pussy   \n",
       "Mother's Milk (1989)                  get  please         fire    make   \n",
       "Blood Sugar Sex Magik (1991)          get    love         give    good   \n",
       "One Hot Minute (1995)                 get    love          one    like   \n",
       "Californication (1999)                get   dance        phfat    come   \n",
       "By The Way (2002)                     get    know         want    make   \n",
       "Stadium Arcadium (2006)               get      oh         come    make   \n",
       "I'm With You (2011)                   get  around         know     say   \n",
       "I'm With You Sessions (2013)         away    love         know    want   \n",
       "The Getaway (2016)                    get     ayo         know    like   \n",
       "\n",
       "                                  word #5 tfidf:word #1 tfidf:word #2  \\\n",
       "The Red Hot Chili Peppers (1984)      men          jump        coyote   \n",
       "Freaky Styley (1985)                 love   millionaire        turtle   \n",
       "The Uplift Mofo Party Plan (1987)     get         party         pussy   \n",
       "Mother's Milk (1989)                 come        please           yea   \n",
       "Blood Sugar Sex Magik (1991)       little           get          sale   \n",
       "One Hot Minute (1995)               could     aeroplane           bob   \n",
       "Californication (1999)               know         phfat           get   \n",
       "By The Way (2002)                    come        cabron           get   \n",
       "Stadium Arcadium (2006)                na           get          bump   \n",
       "I'm With You (2011)                 dance           get        around   \n",
       "I'm With You Sessions (2013)         like          away          love   \n",
       "The Getaway (2016)                   want           ayo           get   \n",
       "\n",
       "                                  tfidf:word #3    tfidf:word #4 tfidf:word #5  \n",
       "The Red Hot Chili Peppers (1984)           hill             know           men  \n",
       "Freaky Styley (1985)                  nevermind              get           cup  \n",
       "The Uplift Mofo Party Plan (1987)          want             love           get  \n",
       "Mother's Milk (1989)                        get             fire         funky  \n",
       "Blood Sugar Sex Magik (1991)               love             give        psycho  \n",
       "One Hot Minute (1995)                       get            spike          love  \n",
       "Californication (1999)                    dance  californication          view  \n",
       "By The Way (2002)                          know             want          make  \n",
       "Stadium Arcadium (2006)               readymade               oh       torture  \n",
       "I'm With You (2011)                        know            dance           say  \n",
       "I'm With You Sessions (2013)               know             want          like  \n",
       "The Getaway (2016)                      anymore             know       detroit  "
      ]
     },
     "execution_count": 17,
     "metadata": {},
     "output_type": "execute_result"
    }
   ],
   "source": [
    "for i,a in enumerate(albums):\n",
    "    largest = vocab_df.iloc[i].nlargest(5)\n",
    "    RHCP.loc[a, 'tfidf:word #1'] = largest.index[0]\n",
    "    RHCP.loc[a, 'tfidf:word #2'] = largest.index[1]\n",
    "    RHCP.loc[a, 'tfidf:word #3'] = largest.index[2]\n",
    "    RHCP.loc[a, 'tfidf:word #4'] = largest.index[3]\n",
    "    RHCP.loc[a, 'tfidf:word #5'] = largest.index[4]\n",
    "RHCP.iloc[:,3:]"
   ]
  },
  {
   "cell_type": "markdown",
   "metadata": {},
   "source": [
    "**Observations:**\n",
    "- TF-IDF did a better job of extracting less frequent words: the word *californication* finally appeared in Californication album.\n",
    "- A better song representation was achieved comapred to raw counts: the algorithm picked up on at least 3 different songs in Stadium Arcadium: *Hump de Bump*, *Readymade*, and *Torture Me*. \n",
    "- Still, TF-IDF failed to pick up on an overrarching theme of each album."
   ]
  },
  {
   "cell_type": "markdown",
   "metadata": {},
   "source": [
    "## Solution 2: LDA\n",
    "\n",
    "**Rationale:** LDA is the most common topic modeling technique. However, LDA requires large (>20k) collections of documents to correctly model the underlying distributions. 12 topics will be used as a hyperparameter as a naive assumption that LDA will correctly learn 12 albums."
   ]
  },
  {
   "cell_type": "code",
   "execution_count": 18,
   "metadata": {},
   "outputs": [],
   "source": [
    "# LDA needs more than 12 docs\n",
    "# see paper http://proceedings.mlr.press/v32/tang14.pdf\n",
    "from gensim.corpora.dictionary import Dictionary\n",
    "import gensim\n",
    "\n",
    "lda_corpus = []\n",
    "for album in lyrics_per_album:\n",
    "    for song in album:\n",
    "        lda_corpus.append(preprocess(song))"
   ]
  },
  {
   "cell_type": "markdown",
   "metadata": {},
   "source": [
    "Sometimes it is useful to generate various n-grams for LDA. \"New_York\" makes more sense rather than \"New\" and \"York\"."
   ]
  },
  {
   "cell_type": "code",
   "execution_count": 19,
   "metadata": {
    "scrolled": true
   },
   "outputs": [],
   "source": [
    "bigram = gensim.models.Phrases(lda_corpus, min_count=5, threshold=100)\n",
    "trigram = gensim.models.Phrases(bigram[lda_corpus], min_count=5, threshold=100)\n",
    "bigram_mod = gensim.models.phrases.Phraser(bigram)\n",
    "trigram_mod = gensim.models.phrases.Phraser(trigram)\n",
    "lda_corpus = [trigram_mod[bigram_mod[doc]] for doc in lda_corpus]\n",
    "\n",
    "dictionary = Dictionary(lda_corpus)\n",
    "bow_corpus = [dictionary.doc2bow(text) for text in lda_corpus]"
   ]
  },
  {
   "cell_type": "code",
   "execution_count": 20,
   "metadata": {},
   "outputs": [
    {
     "name": "stdout",
     "output_type": "stream",
     "text": [
      "0.3038470971755345\n"
     ]
    }
   ],
   "source": [
    "from gensim.models.ldamulticore import LdaMulticore\n",
    "from gensim.models import CoherenceModel\n",
    "\n",
    "model = LdaMulticore(bow_corpus, num_topics=12, id2word=dictionary, workers=7, passes=10, per_word_topics=True,\n",
    "                        random_state=1)\n",
    "coherence_model = CoherenceModel(model=model, corpus=bow_corpus, texts=lda_corpus, coherence='c_v')\n",
    "print(coherence_model.get_coherence())\n",
    "#plt.plot(range(2,20), coherence)"
   ]
  },
  {
   "cell_type": "code",
   "execution_count": 21,
   "metadata": {
    "scrolled": true
   },
   "outputs": [
    {
     "name": "stdout",
     "output_type": "stream",
     "text": [
      "[(0,\n",
      "  '0.029*\"love\" + 0.024*\"get\" + 0.021*\"like\" + 0.016*\"come\" + 0.015*\"take\" + '\n",
      "  '0.010*\"could\" + 0.009*\"phfat_dance\" + 0.008*\"life\" + 0.008*\"give\" + '\n",
      "  '0.008*\"back\"'),\n",
      " (1,\n",
      "  '0.037*\"away\" + 0.020*\"never\" + 0.013*\"get\" + 0.011*\"say\" + 0.011*\"see\" + '\n",
      "  '0.010*\"hey\" + 0.010*\"one\" + 0.010*\"millionaire\" + 0.009*\"like\" + '\n",
      "  '0.009*\"far\"'),\n",
      " (2,\n",
      "  '0.026*\"get\" + 0.014*\"want\" + 0.012*\"say\" + 0.011*\"make\" + 0.011*\"know\" + '\n",
      "  '0.009*\"like\" + 0.009*\"come\" + 0.009*\"go\" + 0.009*\"love\" + 0.009*\"around\"'),\n",
      " (3,\n",
      "  '0.031*\"love\" + 0.014*\"come\" + 0.013*\"yeah\" + 0.010*\"mind\" + '\n",
      "  '0.010*\"brother_cup\" + 0.009*\"talk\" + 0.009*\"get\" + 0.009*\"give\" + '\n",
      "  '0.008*\"go\" + 0.008*\"like\"'),\n",
      " (4,\n",
      "  '0.028*\"oh\" + 0.024*\"know\" + 0.024*\"yeah\" + 0.019*\"say\" + 0.018*\"hey\" + '\n",
      "  '0.016*\"go\" + 0.015*\"like\" + 0.015*\"time\" + 0.015*\"get\" + 0.011*\"love\"'),\n",
      " (5,\n",
      "  '0.020*\"make\" + 0.015*\"love\" + 0.011*\"girl\" + 0.010*\"like\" + 0.010*\"one\" + '\n",
      "  '0.009*\"good\" + 0.009*\"know\" + 0.008*\"man\" + 0.007*\"time\" + 0.007*\"could\"'),\n",
      " (6,\n",
      "  '0.021*\"get\" + 0.013*\"come\" + 0.012*\"take\" + 0.011*\"another\" + 0.011*\"know\" '\n",
      "  '+ 0.010*\"make\" + 0.009*\"inside\" + 0.009*\"fall\" + 0.009*\"tell\" + '\n",
      "  '0.009*\"love\"'),\n",
      " (7,\n",
      "  '0.043*\"get\" + 0.015*\"let\" + 0.013*\"well\" + 0.013*\"long\" + 0.012*\"jump\" + '\n",
      "  '0.011*\"yes\" + 0.011*\"see\" + 0.010*\"around\" + 0.010*\"night\" + 0.009*\"come\"'),\n",
      " (8,\n",
      "  '0.014*\"good\" + 0.013*\"go\" + 0.012*\"keep\" + 0.012*\"get\" + 0.011*\"god\" + '\n",
      "  '0.010*\"must\" + 0.010*\"call\" + 0.009*\"people\" + 0.009*\"thing\" + '\n",
      "  '0.008*\"know\"'),\n",
      " (9,\n",
      "  '0.015*\"know\" + 0.014*\"get\" + 0.013*\"everybody\" + 0.011*\"baby_appeal\" + '\n",
      "  '0.011*\"baby\" + 0.010*\"make\" + 0.010*\"gon_na\" + 0.008*\"finally_found\" + '\n",
      "  '0.008*\"like\" + 0.008*\"road\"'),\n",
      " (10,\n",
      "  '0.040*\"know\" + 0.016*\"get\" + 0.015*\"want\" + 0.015*\"like\" + 0.015*\"right\" + '\n",
      "  '0.013*\"time\" + 0.011*\"say\" + 0.011*\"go\" + 0.011*\"well\" + 0.010*\"love\"'),\n",
      " (11,\n",
      "  '0.029*\"get\" + 0.017*\"give\" + 0.016*\"love\" + 0.014*\"away\" + 0.010*\"keep\" + '\n",
      "  '0.009*\"say\" + 0.008*\"long\" + 0.008*\"inside\" + 0.008*\"little\" + '\n",
      "  '0.007*\"come\"')]\n"
     ]
    }
   ],
   "source": [
    "from pprint import pprint\n",
    "\n",
    "pprint(model.print_topics())\n",
    "doc_lda = model[bow_corpus]"
   ]
  },
  {
   "cell_type": "markdown",
   "metadata": {},
   "source": [
    "**Observations:**\n",
    "- LDA failed to separate albums based on overrarching topics; rather it separated them based on dominant songs again."
   ]
  },
  {
   "cell_type": "code",
   "execution_count": 23,
   "metadata": {
    "scrolled": true
   },
   "outputs": [],
   "source": [
    "# hyperparam tuning\n",
    "from skopt.space import Real, Integer, Categorical\n",
    "from skopt.utils import use_named_args\n",
    "from skopt import gp_minimize\n",
    "\n",
    "space = [\n",
    "    Integer(3, 20, name=\"num_topics\"),\n",
    "    Real(0.01, 1, name='alpha'),\n",
    "    Real(0.01, 1, name='eta'),\n",
    "]\n",
    "\n",
    "@use_named_args(space)\n",
    "def objective(**params):\n",
    "    model = LdaMulticore(bow_corpus, id2word=dictionary, workers=7, passes=30, per_word_topics=True,\n",
    "                        random_state=1,\n",
    "                        num_topics=params['num_topics'],\n",
    "                        alpha=params['alpha'],\n",
    "                        eta=params['eta'])\n",
    "    coherence_model = CoherenceModel(model=model, corpus=bow_corpus, texts=lda_corpus, coherence='c_v')\n",
    "    return -coherence_model.get_coherence()\n",
    "\n",
    "res_gp = gp_minimize(objective, space, n_calls=15, n_jobs=-1, verbose=False)"
   ]
  },
  {
   "cell_type": "code",
   "execution_count": 24,
   "metadata": {},
   "outputs": [
    {
     "name": "stdout",
     "output_type": "stream",
     "text": [
      "Best coherence: -0.58\n",
      "Best parameters: 20, 1.00, 1.00\n"
     ]
    }
   ],
   "source": [
    "print(\"Best coherence: {:.2f}\".format(res_gp.fun))\n",
    "print(\"Best parameters: {}, {:.2f}, {:.2f}\".format(res_gp.x[0], res_gp.x[1], res_gp.x[2]))"
   ]
  },
  {
   "cell_type": "code",
   "execution_count": 25,
   "metadata": {},
   "outputs": [],
   "source": [
    "# train the model based on these parameters and visualize the results\n",
    "model = LdaMulticore(bow_corpus, id2word=dictionary, workers=7, passes=30, per_word_topics=True,\n",
    "                        num_topics=20,\n",
    "                        alpha=1,\n",
    "                        eta=1,random_state=1)"
   ]
  },
  {
   "cell_type": "code",
   "execution_count": 26,
   "metadata": {
    "scrolled": true
   },
   "outputs": [
    {
     "data": {
      "text/plain": [
       "0.5814764285537424"
      ]
     },
     "execution_count": 26,
     "metadata": {},
     "output_type": "execute_result"
    }
   ],
   "source": [
    "coherence_model = CoherenceModel(model=model, corpus=bow_corpus, texts=lda_corpus, coherence='c_v')\n",
    "coherence_model.get_coherence()"
   ]
  },
  {
   "cell_type": "code",
   "execution_count": 27,
   "metadata": {},
   "outputs": [
    {
     "name": "stdout",
     "output_type": "stream",
     "text": [
      "[t-SNE] Computing 193 nearest neighbors...\n",
      "[t-SNE] Indexed 194 samples in 0.000s...\n",
      "[t-SNE] Computed neighbors for 194 samples in 0.003s...\n",
      "[t-SNE] Computed conditional probabilities for sample 194 / 194\n",
      "[t-SNE] Mean sigma: 0.071014\n",
      "[t-SNE] KL divergence after 250 iterations with early exaggeration: 46.541264\n",
      "[t-SNE] KL divergence after 1000 iterations: 0.042781\n"
     ]
    },
    {
     "data": {
      "image/png": "[encoded data removed]",
      "text/plain": [
       "<Figure size 720x720 with 1 Axes>"
      ]
     },
     "metadata": {},
     "output_type": "display_data"
    }
   ],
   "source": [
    "from sklearn.manifold import TSNE\n",
    "import numpy as np\n",
    "from matplotlib import colors as mcolors\n",
    "import matplotlib\n",
    "\n",
    "pd.set_option('display.max_columns', None)\n",
    "pd.set_option('display.max_rows', None)\n",
    "\n",
    "# Get topic weights\n",
    "arr = pd.DataFrame(columns=[el for el in range(16)], index=range(len(model[bow_corpus])))\n",
    "\n",
    "topic_weights = []\n",
    "for i, row in enumerate(model[bow_corpus]):\n",
    "    for pair in row[0]:\n",
    "        arr.loc[i, pair[0]] = pair[1]\n",
    "        \n",
    "# Array of topic weights    \n",
    "arr = arr.fillna(0).values\n",
    "\n",
    "# Keep the well separated points (optional)\n",
    "arr = arr[np.amax(arr, axis=1) > 0.35]\n",
    "\n",
    "# Dominant topic number in each doc\n",
    "topic_num = np.argmax(arr, axis=1)\n",
    "\n",
    "# tSNE Dimension Reduction\n",
    "tsne_model = TSNE(n_components=2, verbose=1, random_state=0, init='pca', perplexity=100)\n",
    "tsne_lda = tsne_model.fit_transform(arr)\n",
    "\n",
    "scat = pd.DataFrame(data=tsne_lda, columns=['x', 'y'])\n",
    "scat['color'] = topic_num\n",
    "scat['color'] = scat['color'].astype('category')\n",
    "\n",
    "# Plot the Topic Clusters using Bokeh\n",
    "n_topics = 16\n",
    "mycolors = np.array([matplotlib.cm.rainbow(i) for i in range(n_topics)])\n",
    "fig, ax = plt.subplots(figsize=(10,10))\n",
    "ax = sns.scatterplot(data=scat, x='x', y='y', hue='color', legend=None, s=100)\n",
    "#ax.set_yticklabels([])\n",
    "#ax.set_xticklabels([])\n",
    "ax.set(xlabel='', ylabel='')\n",
    "plt.show()\n",
    "plt.clf()"
   ]
  },
  {
   "cell_type": "code",
   "execution_count": 29,
   "metadata": {
    "scrolled": true
   },
   "outputs": [
    {
     "name": "stderr",
     "output_type": "stream",
     "text": [
      "c:\\users\\miros\\appdata\\local\\programs\\python\\python38\\lib\\site-packages\\seaborn\\_decorators.py:36: FutureWarning: Pass the following variable as a keyword arg: x. From version 0.12, the only valid positional argument will be `data`, and passing other arguments without an explicit keyword will result in an error or misinterpretation.\n",
      "  warnings.warn(\n"
     ]
    },
    {
     "data": {
      "image/png": "[encoded data removed]",
      "text/plain": [
       "<Figure size 720x576 with 1 Axes>"
      ]
     },
     "metadata": {},
     "output_type": "display_data"
    },
    {
     "data": {
      "text/plain": [
       "<Figure size 432x288 with 0 Axes>"
      ]
     },
     "metadata": {},
     "output_type": "display_data"
    }
   ],
   "source": [
    "scat.rename(columns={'color' : 'category'}, inplace=True)\n",
    "fig, ax = plt.subplots(figsize=(10,8))\n",
    "ax = sns.countplot(scat['category'])\n",
    "ax.set(xlabel='')\n",
    "plt.show()\n",
    "plt.clf()"
   ]
  },
  {
   "cell_type": "markdown",
   "metadata": {},
   "source": [
    "**Observations:**\n",
    "- RHCP songs cannot be modeled equally after after the corresponding albums.\n",
    "- Category 2 dominates the rest of them."
   ]
  },
  {
   "cell_type": "code",
   "execution_count": 30,
   "metadata": {},
   "outputs": [
    {
     "name": "stdout",
     "output_type": "stream",
     "text": [
      "(2,\n",
      " '0.024*\"get\" + 0.015*\"know\" + 0.014*\"love\" + 0.012*\"like\" + 0.011*\"come\" + '\n",
      " '0.010*\"make\" + 0.010*\"say\" + 0.009*\"go\" + 0.008*\"want\" + 0.008*\"time\"')\n"
     ]
    }
   ],
   "source": [
    "from pprint import pprint\n",
    "pprint(model.print_topics()[2])"
   ]
  },
  {
   "cell_type": "markdown",
   "metadata": {},
   "source": [
    "- Topic 2 is not informative enough to establish a theme."
   ]
  },
  {
   "cell_type": "code",
   "execution_count": 31,
   "metadata": {},
   "outputs": [
    {
     "data": {
      "image/png": "[encoded data removed]",
      "text/plain": [
       "<Figure size 432.95x360 with 1 Axes>"
      ]
     },
     "metadata": {},
     "output_type": "display_data"
    }
   ],
   "source": [
    "# topic distribution by album\n",
    "scat.loc[:12,'album'] = 'The Red Hot Chili Peppers (1984)'\n",
    "i = 0\n",
    "prev = 0\n",
    "for idx, album in enumerate(lyrics_per_album):\n",
    "    i +=len(album)\n",
    "    scat.loc[prev:i,'album'] = albums[idx]\n",
    "    prev = i\n",
    "\n",
    "#fig, ax = plt.subplots(figsize=(10,8))    \n",
    "ax = sns.displot(scat, x='album', hue='category', multiple='stack')\n",
    "#plt.draw()\n",
    "ax.set_xticklabels(ax1.get_xticklabels(), rotation = 90)\n",
    "\n",
    "fig.tight_layout()\n",
    "plt.show()"
   ]
  },
  {
   "cell_type": "markdown",
   "metadata": {},
   "source": [
    "**Observations:**\n",
    "- Earlier albums seem to have more topics.\n",
    "- However, it is not enough to make any conclusions."
   ]
  },
  {
   "cell_type": "markdown",
   "metadata": {},
   "source": [
    "## Bonus Theory: \n",
    "\n",
    "When Anthony Kiedis (vocalist) was writing \"Dani California\" (2006), he realized that it's actually a continuation of a story he started earlier in \"Californication\" (1999) and continued in \"By The Way\" (2002). To test this theory, we are going to plot the these 3 songs in proximity to each other on a TSNE plot."
   ]
  },
  {
   "cell_type": "code",
   "execution_count": 32,
   "metadata": {},
   "outputs": [
    {
     "data": {
      "image/png": "[encoded data removed]",
      "text/plain": [
       "<Figure size 720x720 with 1 Axes>"
      ]
     },
     "metadata": {},
     "output_type": "display_data"
    },
    {
     "data": {
      "text/plain": [
       "<Figure size 432x288 with 0 Axes>"
      ]
     },
     "metadata": {},
     "output_type": "display_data"
    }
   ],
   "source": [
    "# californication lda_corpus[89]\n",
    "# by the way lda_corpus[109]\n",
    "# dani california lda_corpus[131]\n",
    "\n",
    "scat_new = scat.copy()\n",
    "scat_new.loc[:, 'Label'] = \"None\"\n",
    "scat_new.loc[89, 'Label'] = 'Californication'\n",
    "scat_new.loc[109, 'Label'] = 'By The Way'\n",
    "scat_new.loc[131, 'Label'] = 'Dani California'\n",
    "\n",
    "fig, ax = plt.subplots(figsize=(10,10))\n",
    "ax = sns.scatterplot(data=scat_new, x='x', y='y', hue='category', legend=None, s=100)\n",
    "for row in scat_new.iterrows():\n",
    "    if row[1]['Label'] != \"None\":\n",
    "        ax.text(row[1]['x']+.02, row[1]['y'], str(row[1]['Label']))\n",
    "ax.set(xlabel='', ylabel='')\n",
    "plt.show()\n",
    "plt.clf()"
   ]
  },
  {
   "cell_type": "markdown",
   "metadata": {},
   "source": [
    "**Observations:**\n",
    "- All 3 songs are far apart from each other, which suggests that lyrically they are not very similar."
   ]
  },
  {
   "cell_type": "markdown",
   "metadata": {},
   "source": [
    "## Conclusions\n",
    "- The level of sophistication of RHCP's albums has been falling since One Hot Minute.\n",
    "- Raw word count is bad representation of album's topic.\n",
    "- TF-IDF and LDA fail the identify meaningful topics due to insufficient amount of data.\n",
    "- Better algorithms for summarization and topic modeling are available which work better for smaller datasets."
   ]
  },
  {
   "cell_type": "code",
   "execution_count": null,
   "metadata": {},
   "outputs": [],
   "source": []
  }
 ],
 "metadata": {
  "kernelspec": {
   "display_name": "Python 3",
   "language": "python",
   "name": "python3"
  },
  "language_info": {
   "codemirror_mode": {
    "name": "ipython",
    "version": 3
   },
   "file_extension": ".py",
   "mimetype": "text/x-python",
   "name": "python",
   "nbconvert_exporter": "python",
   "pygments_lexer": "ipython3",
   "version": "3.8.3"
  }
 },
 "nbformat": 4,
 "nbformat_minor": 4
}
